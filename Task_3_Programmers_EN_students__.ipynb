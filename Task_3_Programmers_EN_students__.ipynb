{
  "nbformat": 4,
  "nbformat_minor": 0,
  "metadata": {
    "kernelspec": {
      "display_name": "Python 3",
      "language": "python",
      "name": "python3"
    },
    "language_info": {
      "codemirror_mode": {
        "name": "ipython",
        "version": 3
      },
      "file_extension": ".py",
      "mimetype": "text/x-python",
      "name": "python",
      "nbconvert_exporter": "python",
      "pygments_lexer": "ipython3",
      "version": "3.7.6"
    },
    "colab": {
      "provenance": [],
      "include_colab_link": true
    }
  },
  "cells": [
    {
      "cell_type": "markdown",
      "metadata": {
        "id": "view-in-github",
        "colab_type": "text"
      },
      "source": [
        "<a href=\"https://colab.research.google.com/github/zh19980811/Automatic-Text-Processing-and-Image-Processing-itmo/blob/main/Task_3_Programmers_EN_students__.ipynb\" target=\"_parent\"><img src=\"https://colab.research.google.com/assets/colab-badge.svg\" alt=\"Open In Colab\"/></a>"
      ]
    },
    {
      "cell_type": "markdown",
      "metadata": {
        "id": "TAyzWDzFdnLa"
      },
      "source": [
        "## Text classification: Spam or Ham"
      ]
    },
    {
      "cell_type": "markdown",
      "metadata": {
        "id": "sh91cKPmdnLb"
      },
      "source": [
        "In this example based on the classical dataset Spambase Dataset (https://archive.ics.uci.edu/ml/datasets/spambase) we will try to make our own spam filter using scikit-learn library. The dataset contains text corpora of  5.574 text messages with labels \"spam\" or \"ham\"."
      ]
    },
    {
      "cell_type": "markdown",
      "metadata": {
        "id": "D4Bf-AmgdnLb"
      },
      "source": [
        "### Data"
      ]
    },
    {
      "cell_type": "markdown",
      "metadata": {
        "id": "lWvXDXKrdnLb"
      },
      "source": [
        "Data are attached to the task description for your convinience"
      ]
    },
    {
      "cell_type": "code",
      "metadata": {
        "id": "UnJwvQzbdnLb"
      },
      "source": [
        "import pandas as pd\n",
        "df = pd.read_csv('/content/3_data.csv', encoding='latin-1')"
      ],
      "execution_count": 1,
      "outputs": []
    },
    {
      "cell_type": "markdown",
      "metadata": {
        "id": "GRqzedIIdnLc"
      },
      "source": [
        "We delete all other columns except for two of interest: text messages and labels:"
      ]
    },
    {
      "cell_type": "code",
      "metadata": {
        "id": "xO59-HEadnLc",
        "colab": {
          "base_uri": "https://localhost:8080/",
          "height": 206
        },
        "outputId": "bb0c1324-2fd8-488d-bafd-b823d2b3641c"
      },
      "source": [
        "df = df[['v1', 'v2']]\n",
        "df = df.rename(columns = {'v1': 'label', 'v2': 'text'})\n",
        "df.head()"
      ],
      "execution_count": 2,
      "outputs": [
        {
          "output_type": "execute_result",
          "data": {
            "text/plain": [
              "  label                                               text\n",
              "0   ham  Go until jurong point, crazy.. Available only ...\n",
              "1   ham                      Ok lar... Joking wif u oni...\n",
              "2  spam  Free entry in 2 a wkly comp to win FA Cup fina...\n",
              "3   ham  U dun say so early hor... U c already then say...\n",
              "4   ham  Nah I don't think he goes to usf, he lives aro..."
            ],
            "text/html": [
              "\n",
              "  <div id=\"df-5c9919f9-4492-42ed-a586-f5443bc9a0cc\" class=\"colab-df-container\">\n",
              "    <div>\n",
              "<style scoped>\n",
              "    .dataframe tbody tr th:only-of-type {\n",
              "        vertical-align: middle;\n",
              "    }\n",
              "\n",
              "    .dataframe tbody tr th {\n",
              "        vertical-align: top;\n",
              "    }\n",
              "\n",
              "    .dataframe thead th {\n",
              "        text-align: right;\n",
              "    }\n",
              "</style>\n",
              "<table border=\"1\" class=\"dataframe\">\n",
              "  <thead>\n",
              "    <tr style=\"text-align: right;\">\n",
              "      <th></th>\n",
              "      <th>label</th>\n",
              "      <th>text</th>\n",
              "    </tr>\n",
              "  </thead>\n",
              "  <tbody>\n",
              "    <tr>\n",
              "      <th>0</th>\n",
              "      <td>ham</td>\n",
              "      <td>Go until jurong point, crazy.. Available only ...</td>\n",
              "    </tr>\n",
              "    <tr>\n",
              "      <th>1</th>\n",
              "      <td>ham</td>\n",
              "      <td>Ok lar... Joking wif u oni...</td>\n",
              "    </tr>\n",
              "    <tr>\n",
              "      <th>2</th>\n",
              "      <td>spam</td>\n",
              "      <td>Free entry in 2 a wkly comp to win FA Cup fina...</td>\n",
              "    </tr>\n",
              "    <tr>\n",
              "      <th>3</th>\n",
              "      <td>ham</td>\n",
              "      <td>U dun say so early hor... U c already then say...</td>\n",
              "    </tr>\n",
              "    <tr>\n",
              "      <th>4</th>\n",
              "      <td>ham</td>\n",
              "      <td>Nah I don't think he goes to usf, he lives aro...</td>\n",
              "    </tr>\n",
              "  </tbody>\n",
              "</table>\n",
              "</div>\n",
              "    <div class=\"colab-df-buttons\">\n",
              "\n",
              "  <div class=\"colab-df-container\">\n",
              "    <button class=\"colab-df-convert\" onclick=\"convertToInteractive('df-5c9919f9-4492-42ed-a586-f5443bc9a0cc')\"\n",
              "            title=\"Convert this dataframe to an interactive table.\"\n",
              "            style=\"display:none;\">\n",
              "\n",
              "  <svg xmlns=\"http://www.w3.org/2000/svg\" height=\"24px\" viewBox=\"0 -960 960 960\">\n",
              "    <path d=\"M120-120v-720h720v720H120Zm60-500h600v-160H180v160Zm220 220h160v-160H400v160Zm0 220h160v-160H400v160ZM180-400h160v-160H180v160Zm440 0h160v-160H620v160ZM180-180h160v-160H180v160Zm440 0h160v-160H620v160Z\"/>\n",
              "  </svg>\n",
              "    </button>\n",
              "\n",
              "  <style>\n",
              "    .colab-df-container {\n",
              "      display:flex;\n",
              "      gap: 12px;\n",
              "    }\n",
              "\n",
              "    .colab-df-convert {\n",
              "      background-color: #E8F0FE;\n",
              "      border: none;\n",
              "      border-radius: 50%;\n",
              "      cursor: pointer;\n",
              "      display: none;\n",
              "      fill: #1967D2;\n",
              "      height: 32px;\n",
              "      padding: 0 0 0 0;\n",
              "      width: 32px;\n",
              "    }\n",
              "\n",
              "    .colab-df-convert:hover {\n",
              "      background-color: #E2EBFA;\n",
              "      box-shadow: 0px 1px 2px rgba(60, 64, 67, 0.3), 0px 1px 3px 1px rgba(60, 64, 67, 0.15);\n",
              "      fill: #174EA6;\n",
              "    }\n",
              "\n",
              "    .colab-df-buttons div {\n",
              "      margin-bottom: 4px;\n",
              "    }\n",
              "\n",
              "    [theme=dark] .colab-df-convert {\n",
              "      background-color: #3B4455;\n",
              "      fill: #D2E3FC;\n",
              "    }\n",
              "\n",
              "    [theme=dark] .colab-df-convert:hover {\n",
              "      background-color: #434B5C;\n",
              "      box-shadow: 0px 1px 3px 1px rgba(0, 0, 0, 0.15);\n",
              "      filter: drop-shadow(0px 1px 2px rgba(0, 0, 0, 0.3));\n",
              "      fill: #FFFFFF;\n",
              "    }\n",
              "  </style>\n",
              "\n",
              "    <script>\n",
              "      const buttonEl =\n",
              "        document.querySelector('#df-5c9919f9-4492-42ed-a586-f5443bc9a0cc button.colab-df-convert');\n",
              "      buttonEl.style.display =\n",
              "        google.colab.kernel.accessAllowed ? 'block' : 'none';\n",
              "\n",
              "      async function convertToInteractive(key) {\n",
              "        const element = document.querySelector('#df-5c9919f9-4492-42ed-a586-f5443bc9a0cc');\n",
              "        const dataTable =\n",
              "          await google.colab.kernel.invokeFunction('convertToInteractive',\n",
              "                                                    [key], {});\n",
              "        if (!dataTable) return;\n",
              "\n",
              "        const docLinkHtml = 'Like what you see? Visit the ' +\n",
              "          '<a target=\"_blank\" href=https://colab.research.google.com/notebooks/data_table.ipynb>data table notebook</a>'\n",
              "          + ' to learn more about interactive tables.';\n",
              "        element.innerHTML = '';\n",
              "        dataTable['output_type'] = 'display_data';\n",
              "        await google.colab.output.renderOutput(dataTable, element);\n",
              "        const docLink = document.createElement('div');\n",
              "        docLink.innerHTML = docLinkHtml;\n",
              "        element.appendChild(docLink);\n",
              "      }\n",
              "    </script>\n",
              "  </div>\n",
              "\n",
              "\n",
              "<div id=\"df-11784eb4-7dd4-4c2f-bbef-0e608debc9d0\">\n",
              "  <button class=\"colab-df-quickchart\" onclick=\"quickchart('df-11784eb4-7dd4-4c2f-bbef-0e608debc9d0')\"\n",
              "            title=\"Suggest charts\"\n",
              "            style=\"display:none;\">\n",
              "\n",
              "<svg xmlns=\"http://www.w3.org/2000/svg\" height=\"24px\"viewBox=\"0 0 24 24\"\n",
              "     width=\"24px\">\n",
              "    <g>\n",
              "        <path d=\"M19 3H5c-1.1 0-2 .9-2 2v14c0 1.1.9 2 2 2h14c1.1 0 2-.9 2-2V5c0-1.1-.9-2-2-2zM9 17H7v-7h2v7zm4 0h-2V7h2v10zm4 0h-2v-4h2v4z\"/>\n",
              "    </g>\n",
              "</svg>\n",
              "  </button>\n",
              "\n",
              "<style>\n",
              "  .colab-df-quickchart {\n",
              "      --bg-color: #E8F0FE;\n",
              "      --fill-color: #1967D2;\n",
              "      --hover-bg-color: #E2EBFA;\n",
              "      --hover-fill-color: #174EA6;\n",
              "      --disabled-fill-color: #AAA;\n",
              "      --disabled-bg-color: #DDD;\n",
              "  }\n",
              "\n",
              "  [theme=dark] .colab-df-quickchart {\n",
              "      --bg-color: #3B4455;\n",
              "      --fill-color: #D2E3FC;\n",
              "      --hover-bg-color: #434B5C;\n",
              "      --hover-fill-color: #FFFFFF;\n",
              "      --disabled-bg-color: #3B4455;\n",
              "      --disabled-fill-color: #666;\n",
              "  }\n",
              "\n",
              "  .colab-df-quickchart {\n",
              "    background-color: var(--bg-color);\n",
              "    border: none;\n",
              "    border-radius: 50%;\n",
              "    cursor: pointer;\n",
              "    display: none;\n",
              "    fill: var(--fill-color);\n",
              "    height: 32px;\n",
              "    padding: 0;\n",
              "    width: 32px;\n",
              "  }\n",
              "\n",
              "  .colab-df-quickchart:hover {\n",
              "    background-color: var(--hover-bg-color);\n",
              "    box-shadow: 0 1px 2px rgba(60, 64, 67, 0.3), 0 1px 3px 1px rgba(60, 64, 67, 0.15);\n",
              "    fill: var(--button-hover-fill-color);\n",
              "  }\n",
              "\n",
              "  .colab-df-quickchart-complete:disabled,\n",
              "  .colab-df-quickchart-complete:disabled:hover {\n",
              "    background-color: var(--disabled-bg-color);\n",
              "    fill: var(--disabled-fill-color);\n",
              "    box-shadow: none;\n",
              "  }\n",
              "\n",
              "  .colab-df-spinner {\n",
              "    border: 2px solid var(--fill-color);\n",
              "    border-color: transparent;\n",
              "    border-bottom-color: var(--fill-color);\n",
              "    animation:\n",
              "      spin 1s steps(1) infinite;\n",
              "  }\n",
              "\n",
              "  @keyframes spin {\n",
              "    0% {\n",
              "      border-color: transparent;\n",
              "      border-bottom-color: var(--fill-color);\n",
              "      border-left-color: var(--fill-color);\n",
              "    }\n",
              "    20% {\n",
              "      border-color: transparent;\n",
              "      border-left-color: var(--fill-color);\n",
              "      border-top-color: var(--fill-color);\n",
              "    }\n",
              "    30% {\n",
              "      border-color: transparent;\n",
              "      border-left-color: var(--fill-color);\n",
              "      border-top-color: var(--fill-color);\n",
              "      border-right-color: var(--fill-color);\n",
              "    }\n",
              "    40% {\n",
              "      border-color: transparent;\n",
              "      border-right-color: var(--fill-color);\n",
              "      border-top-color: var(--fill-color);\n",
              "    }\n",
              "    60% {\n",
              "      border-color: transparent;\n",
              "      border-right-color: var(--fill-color);\n",
              "    }\n",
              "    80% {\n",
              "      border-color: transparent;\n",
              "      border-right-color: var(--fill-color);\n",
              "      border-bottom-color: var(--fill-color);\n",
              "    }\n",
              "    90% {\n",
              "      border-color: transparent;\n",
              "      border-bottom-color: var(--fill-color);\n",
              "    }\n",
              "  }\n",
              "</style>\n",
              "\n",
              "  <script>\n",
              "    async function quickchart(key) {\n",
              "      const quickchartButtonEl =\n",
              "        document.querySelector('#' + key + ' button');\n",
              "      quickchartButtonEl.disabled = true;  // To prevent multiple clicks.\n",
              "      quickchartButtonEl.classList.add('colab-df-spinner');\n",
              "      try {\n",
              "        const charts = await google.colab.kernel.invokeFunction(\n",
              "            'suggestCharts', [key], {});\n",
              "      } catch (error) {\n",
              "        console.error('Error during call to suggestCharts:', error);\n",
              "      }\n",
              "      quickchartButtonEl.classList.remove('colab-df-spinner');\n",
              "      quickchartButtonEl.classList.add('colab-df-quickchart-complete');\n",
              "    }\n",
              "    (() => {\n",
              "      let quickchartButtonEl =\n",
              "        document.querySelector('#df-11784eb4-7dd4-4c2f-bbef-0e608debc9d0 button');\n",
              "      quickchartButtonEl.style.display =\n",
              "        google.colab.kernel.accessAllowed ? 'block' : 'none';\n",
              "    })();\n",
              "  </script>\n",
              "</div>\n",
              "    </div>\n",
              "  </div>\n"
            ],
            "application/vnd.google.colaboratory.intrinsic+json": {
              "type": "dataframe",
              "variable_name": "df",
              "summary": "{\n  \"name\": \"df\",\n  \"rows\": 5572,\n  \"fields\": [\n    {\n      \"column\": \"label\",\n      \"properties\": {\n        \"dtype\": \"category\",\n        \"num_unique_values\": 2,\n        \"samples\": [\n          \"spam\",\n          \"ham\"\n        ],\n        \"semantic_type\": \"\",\n        \"description\": \"\"\n      }\n    },\n    {\n      \"column\": \"text\",\n      \"properties\": {\n        \"dtype\": \"string\",\n        \"num_unique_values\": 5169,\n        \"samples\": [\n          \"Did u download the fring app?\",\n          \"Pass dis to all ur contacts n see wat u get! Red;i'm in luv wid u. Blue;u put a smile on my face. Purple;u r realy hot. Pink;u r so swt. Orange;i thnk i lyk u. Green;i realy wana go out wid u. Yelow;i wnt u bck. Black;i'm jealous of u. Brown;i miss you Nw plz giv me one color\"\n        ],\n        \"semantic_type\": \"\",\n        \"description\": \"\"\n      }\n    }\n  ]\n}"
            }
          },
          "metadata": {},
          "execution_count": 2
        }
      ]
    },
    {
      "cell_type": "markdown",
      "metadata": {
        "id": "NU2xwmvIdnLd"
      },
      "source": [
        "Delete duplicates:"
      ]
    },
    {
      "cell_type": "code",
      "metadata": {
        "id": "iveCG_bXdnLd"
      },
      "source": [
        "df = df.drop_duplicates('text')"
      ],
      "execution_count": 3,
      "outputs": []
    },
    {
      "cell_type": "markdown",
      "metadata": {
        "id": "XuPip3mzdnLd"
      },
      "source": [
        "Change labels to binary:"
      ]
    },
    {
      "cell_type": "code",
      "metadata": {
        "id": "JsKdfy6-dnLd"
      },
      "source": [
        "df['label'] = df['label'].map({'ham': 0, 'spam': 1})"
      ],
      "execution_count": 4,
      "outputs": []
    },
    {
      "cell_type": "markdown",
      "metadata": {
        "id": "8vQJK8LNdnLe"
      },
      "source": [
        "### Text pre-processing (Task)"
      ]
    },
    {
      "cell_type": "markdown",
      "metadata": {
        "id": "D8tefVdTdnLe"
      },
      "source": [
        "We need to complete the function for text pre-processing, to pre-process the text the following way:\n",
        "* convert text to lowercase;\n",
        "* remove stop-words;\n",
        "* remove punctuation marks;\n",
        "* normalizes the text using Snowball stemmer.\n",
        "\n",
        "We recommend to use the NLTK library, in order not to compile a list of stop-words and not to implement the stemming algorithm yourself. Click the link to find the examples of stemmers application (https://www.nltk.org/howto/stem.html)."
      ]
    },
    {
      "cell_type": "code",
      "metadata": {
        "id": "yhU1BvAHdnLe",
        "colab": {
          "base_uri": "https://localhost:8080/",
          "height": 0
        },
        "outputId": "328859ce-a043-4ea5-c4fa-bad5db9007ab"
      },
      "source": [
        "from nltk import stem\n",
        "import nltk\n",
        "from nltk.corpus import stopwords\n",
        "import re\n",
        "\n",
        "nltk.download('stopwords')\n",
        "nltk.download('punkt')\n",
        "\n",
        "stemmer = stem.SnowballStemmer('english')\n",
        "stopwords = set(stopwords.words('english'))\n",
        "\n",
        "def preprocess(text):\n",
        "    text = re.sub(r'[^\\w\\s]', '', text)\n",
        "    # your code here\n",
        "    text = ' '.join([stemmer.stem(t) for t in text.lower().split(' ')])\n",
        "    #print(text)\n",
        "    #print(([stemmer.stem(t) for t in text.lower() if t.isalpha() or t == ' ']))\n",
        "    text = ' '.join([t for t in text.split(' ') if t not in stopwords])\n",
        "    #print(nltk.tokenize.word_tokenize(text))\n",
        "    text = ''.join([t for t in text if t.isalpha() or t == ' '])\n",
        "    return text"
      ],
      "execution_count": 5,
      "outputs": [
        {
          "output_type": "stream",
          "name": "stderr",
          "text": [
            "[nltk_data] Downloading package stopwords to /root/nltk_data...\n",
            "[nltk_data]   Package stopwords is already up-to-date!\n",
            "[nltk_data] Downloading package punkt to /root/nltk_data...\n",
            "[nltk_data]   Package punkt is already up-to-date!\n"
          ]
        }
      ]
    },
    {
      "cell_type": "markdown",
      "metadata": {
        "id": "QM-Lrt6ddnLe"
      },
      "source": [
        "Check that the function works correctly"
      ]
    },
    {
      "cell_type": "code",
      "source": [
        "preprocess(\"I'm gonna be home soon and i don't want to talk about this stuff anymore tonight, k? I've cried enough today.\")"
      ],
      "metadata": {
        "colab": {
          "base_uri": "https://localhost:8080/",
          "height": 35
        },
        "id": "eDtnqfoosvz3",
        "outputId": "5dc4e3a6-6a4f-488a-9e6b-9b973c59192c"
      },
      "execution_count": 6,
      "outputs": [
        {
          "output_type": "execute_result",
          "data": {
            "text/plain": [
              "'im gonna home soon dont want talk stuff anymor tonight k ive cri enough today'"
            ],
            "application/vnd.google.colaboratory.intrinsic+json": {
              "type": "string"
            }
          },
          "metadata": {},
          "execution_count": 6
        }
      ]
    },
    {
      "cell_type": "code",
      "source": [
        "preprocess(\"Go until jurong point, crazy.. Available only in bugis n great world la e buffet... Cine there got amore wat...\")"
      ],
      "metadata": {
        "colab": {
          "base_uri": "https://localhost:8080/",
          "height": 35
        },
        "id": "VIXP3T714X_U",
        "outputId": "fb718abc-d658-4e27-960d-eab1b1717c25"
      },
      "execution_count": 7,
      "outputs": [
        {
          "output_type": "execute_result",
          "data": {
            "text/plain": [
              "'go jurong point crazi avail onli bugi n great world la e buffet cine got amor wat'"
            ],
            "application/vnd.google.colaboratory.intrinsic+json": {
              "type": "string"
            }
          },
          "metadata": {},
          "execution_count": 7
        }
      ]
    },
    {
      "cell_type": "code",
      "metadata": {
        "id": "RSuPqUb2dnLe"
      },
      "source": [
        "#assert preprocess(\"I'm gonna be home soon and i don't want to talk about this stuff anymore tonight, k? I've cried enough today.\") == \"im gonna home soon dont want talk stuff anymor tonight k ive cri enough today\"\n",
        "#assert preprocess(\"Go until jurong point, crazy.. Available only in bugis n great world la e buffet... Cine there got amore wat...\") == \"go jurong point crazi avail bugi n great world la e buffet cine got amor wat\""
      ],
      "execution_count": 8,
      "outputs": []
    },
    {
      "cell_type": "markdown",
      "metadata": {
        "id": "84H8mOmpdnLe"
      },
      "source": [
        "Apply to the text:"
      ]
    },
    {
      "cell_type": "code",
      "metadata": {
        "id": "NtM4626ednLe",
        "colab": {
          "base_uri": "https://localhost:8080/",
          "height": 0
        },
        "outputId": "feb28277-3a0c-41cf-bab5-524268d975a3"
      },
      "source": [
        "df['text'] = df['text'].apply(preprocess)\n",
        "df['text']"
      ],
      "execution_count": 9,
      "outputs": [
        {
          "output_type": "execute_result",
          "data": {
            "text/plain": [
              "0       go jurong point crazi avail onli bugi n great ...\n",
              "1                                   ok lar joke wif u oni\n",
              "2       free entri  wkli comp win fa cup final tkts st...\n",
              "3                     u dun say earli hor u c alreadi say\n",
              "4               nah dont think goe usf live around though\n",
              "                              ...                        \n",
              "5567    nd time tri  contact u u å pound prize  claim ...\n",
              "5568                              ì b go esplanad fr home\n",
              "5569                             piti  mood soani suggest\n",
              "5570    guy bitch act like id interest buy someth els ...\n",
              "5571                                       rofl true name\n",
              "Name: text, Length: 5169, dtype: object"
            ]
          },
          "metadata": {},
          "execution_count": 9
        }
      ]
    },
    {
      "cell_type": "markdown",
      "metadata": {
        "id": "gRyqtqUtdnLe"
      },
      "source": [
        "### Split the data to the training and test set"
      ]
    },
    {
      "cell_type": "code",
      "metadata": {
        "id": "nt7Z5NCMdnLe"
      },
      "source": [
        "y = df['label'].values"
      ],
      "execution_count": 10,
      "outputs": []
    },
    {
      "cell_type": "markdown",
      "metadata": {
        "id": "6r4PJBctdnLe"
      },
      "source": [
        "Now we need to split the data to test (test) and training (train) sets. Scikit-learn library contains ready to use tools to do it."
      ]
    },
    {
      "cell_type": "code",
      "metadata": {
        "id": "r1c9ARWIdnLe",
        "colab": {
          "base_uri": "https://localhost:8080/",
          "height": 0
        },
        "outputId": "d956337e-3c8f-4327-875e-8865a501e602"
      },
      "source": [
        "from sklearn.model_selection import train_test_split\n",
        "X_train, X_test, y_train, y_test = train_test_split(df['text'], y, test_size=0.25, random_state=90)\n",
        "X_test"
      ],
      "execution_count": 11,
      "outputs": [
        {
          "output_type": "execute_result",
          "data": {
            "text/plain": [
              "5006                                  oh k  come tomorrow\n",
              "1241                      want show world princess  europ\n",
              "2462    rose need water season need chang poet need im...\n",
              "4737    bought test yesterday someth let know exact da...\n",
              "4627    today voda number end  select receiv å reward ...\n",
              "                              ...                        \n",
              "4635                                     k k pa lunch aha\n",
              "3515    well give cos said didnût one nighter persev f...\n",
              "5275                                  oh yeah clear fault\n",
              "339                          u call right call hand phone\n",
              "2232                noth get msgs dis name wit differ nos\n",
              "Name: text, Length: 1293, dtype: object"
            ]
          },
          "metadata": {},
          "execution_count": 11
        }
      ]
    },
    {
      "cell_type": "markdown",
      "metadata": {
        "id": "KOV7Ub4ldnLe"
      },
      "source": [
        "### Classifier training"
      ]
    },
    {
      "cell_type": "markdown",
      "metadata": {
        "id": "enAzNefqdnLe"
      },
      "source": [
        "We came to the classifier training now.\n",
        "\n",
        "First we extract features from the texts. It is strongly recommened to try several methods in order to check how each method influences the result (more information on different text representation methods you can find on the link https://scikit-learn.org/stable/modules/feature_extraction.html#text-feature-extraction).\n",
        "\n",
        "Then we train the classifier. We use SVM, but you can try different algorithms."
      ]
    },
    {
      "cell_type": "code",
      "metadata": {
        "id": "QtfcmJ7NdnLe"
      },
      "source": [
        "from sklearn.feature_extraction.text import TfidfVectorizer, CountVectorizer\n",
        "\n",
        "# exctract features from the texts\n",
        "vectorizer = TfidfVectorizer(decode_error='ignore')\n",
        "X_train = vectorizer.fit_transform(X_train)\n",
        "X_test = vectorizer.transform(X_test)"
      ],
      "execution_count": 12,
      "outputs": []
    },
    {
      "cell_type": "code",
      "metadata": {
        "id": "PIQQo8j3dnLe",
        "colab": {
          "base_uri": "https://localhost:8080/"
        },
        "outputId": "f00fc561-0b66-4c0e-9ba6-015e339913dd"
      },
      "source": [
        "from sklearn.svm import LinearSVC\n",
        "from sklearn.metrics import classification_report\n",
        "model = LinearSVC(random_state = 90, C = 1.5)\n",
        "model.fit(X_train, y_train)\n",
        "predictions = model.predict(X_test)\n",
        "print(classification_report(y_test, predictions, digits=3))"
      ],
      "execution_count": 76,
      "outputs": [
        {
          "output_type": "stream",
          "name": "stdout",
          "text": [
            "              precision    recall  f1-score   support\n",
            "\n",
            "           0      0.976     0.999     0.988      1114\n",
            "           1      0.993     0.849     0.916       179\n",
            "\n",
            "    accuracy                          0.978      1293\n",
            "   macro avg      0.985     0.924     0.952      1293\n",
            "weighted avg      0.979     0.978     0.978      1293\n",
            "\n"
          ]
        }
      ]
    },
    {
      "cell_type": "code",
      "source": [
        "from sklearn.svm import LinearSVC\n",
        "from sklearn.metrics import classification_report\n",
        "from sklearn.model_selection import train_test_split\n",
        "import numpy as np\n",
        "\n",
        "# 假设您已经有了 X_train, y_train, X_test, y_test\n",
        "# 如果没有，请先创建这些数据分割\n",
        "\n",
        "# 定义C值的范围\n",
        "C_values = np.arange(1.0, 2.01, 0.01)\n",
        "\n",
        "# 存储每次结果的字典\n",
        "results = []\n",
        "\n",
        "# 遍历每个C值\n",
        "for C in C_values:\n",
        "    model = LinearSVC(random_state=90, C=C)\n",
        "    model.fit(X_train, y_train)\n",
        "    predictions = model.predict(X_test)\n",
        "    report = classification_report(y_test, predictions, digits=3, output_dict=True)\n",
        "    # 存储宏平均召回率、F1分数和精确度\n",
        "    results.append({\n",
        "        'C': C,\n",
        "        'Precision_macro_avg': report['macro avg']['precision'],\n",
        "        'Recall_macro_avg': report['macro avg']['recall'],\n",
        "        'F1_score_macro_avg': report['macro avg']['f1-score']\n",
        "    })\n",
        "\n",
        "# 打印结果\n",
        "for result in results:\n",
        "    print(f\"C={result['C']:.2f}, Precision Macro Avg={result['Precision_macro_avg']:.3f}, Recall Macro Avg={result['Recall_macro_avg']:.3f}, F1-score Macro Avg={result['F1_score_macro_avg']:.3f}\")\n"
      ],
      "metadata": {
        "colab": {
          "base_uri": "https://localhost:8080/"
        },
        "id": "iTqHFmjy_lSs",
        "outputId": "5609589f-dbb6-439b-a27e-489e2588122b"
      },
      "execution_count": 82,
      "outputs": [
        {
          "output_type": "stream",
          "name": "stdout",
          "text": [
            "C=1.00, Precision Macro Avg=0.981, Recall Macro Avg=0.921, F1-score Macro Avg=0.948\n",
            "C=1.01, Precision Macro Avg=0.981, Recall Macro Avg=0.921, F1-score Macro Avg=0.948\n",
            "C=1.02, Precision Macro Avg=0.981, Recall Macro Avg=0.921, F1-score Macro Avg=0.948\n",
            "C=1.03, Precision Macro Avg=0.981, Recall Macro Avg=0.921, F1-score Macro Avg=0.948\n",
            "C=1.04, Precision Macro Avg=0.981, Recall Macro Avg=0.921, F1-score Macro Avg=0.948\n",
            "C=1.05, Precision Macro Avg=0.981, Recall Macro Avg=0.921, F1-score Macro Avg=0.948\n",
            "C=1.06, Precision Macro Avg=0.981, Recall Macro Avg=0.921, F1-score Macro Avg=0.948\n",
            "C=1.07, Precision Macro Avg=0.981, Recall Macro Avg=0.921, F1-score Macro Avg=0.948\n",
            "C=1.08, Precision Macro Avg=0.981, Recall Macro Avg=0.921, F1-score Macro Avg=0.948\n",
            "C=1.09, Precision Macro Avg=0.981, Recall Macro Avg=0.921, F1-score Macro Avg=0.948\n",
            "C=1.10, Precision Macro Avg=0.981, Recall Macro Avg=0.921, F1-score Macro Avg=0.948\n",
            "C=1.11, Precision Macro Avg=0.981, Recall Macro Avg=0.921, F1-score Macro Avg=0.948\n",
            "C=1.12, Precision Macro Avg=0.981, Recall Macro Avg=0.921, F1-score Macro Avg=0.948\n",
            "C=1.13, Precision Macro Avg=0.981, Recall Macro Avg=0.921, F1-score Macro Avg=0.948\n",
            "C=1.14, Precision Macro Avg=0.981, Recall Macro Avg=0.921, F1-score Macro Avg=0.948\n",
            "C=1.15, Precision Macro Avg=0.981, Recall Macro Avg=0.921, F1-score Macro Avg=0.948\n",
            "C=1.16, Precision Macro Avg=0.981, Recall Macro Avg=0.921, F1-score Macro Avg=0.948\n",
            "C=1.17, Precision Macro Avg=0.981, Recall Macro Avg=0.921, F1-score Macro Avg=0.948\n",
            "C=1.18, Precision Macro Avg=0.981, Recall Macro Avg=0.921, F1-score Macro Avg=0.948\n",
            "C=1.19, Precision Macro Avg=0.981, Recall Macro Avg=0.921, F1-score Macro Avg=0.948\n",
            "C=1.20, Precision Macro Avg=0.981, Recall Macro Avg=0.921, F1-score Macro Avg=0.948\n",
            "C=1.21, Precision Macro Avg=0.981, Recall Macro Avg=0.921, F1-score Macro Avg=0.948\n",
            "C=1.22, Precision Macro Avg=0.981, Recall Macro Avg=0.921, F1-score Macro Avg=0.948\n",
            "C=1.23, Precision Macro Avg=0.982, Recall Macro Avg=0.924, F1-score Macro Avg=0.950\n",
            "C=1.24, Precision Macro Avg=0.982, Recall Macro Avg=0.924, F1-score Macro Avg=0.950\n",
            "C=1.25, Precision Macro Avg=0.982, Recall Macro Avg=0.924, F1-score Macro Avg=0.950\n",
            "C=1.26, Precision Macro Avg=0.982, Recall Macro Avg=0.924, F1-score Macro Avg=0.950\n",
            "C=1.27, Precision Macro Avg=0.982, Recall Macro Avg=0.924, F1-score Macro Avg=0.950\n",
            "C=1.28, Precision Macro Avg=0.982, Recall Macro Avg=0.924, F1-score Macro Avg=0.950\n",
            "C=1.29, Precision Macro Avg=0.982, Recall Macro Avg=0.924, F1-score Macro Avg=0.950\n",
            "C=1.30, Precision Macro Avg=0.982, Recall Macro Avg=0.924, F1-score Macro Avg=0.950\n",
            "C=1.31, Precision Macro Avg=0.982, Recall Macro Avg=0.924, F1-score Macro Avg=0.950\n",
            "C=1.32, Precision Macro Avg=0.982, Recall Macro Avg=0.924, F1-score Macro Avg=0.950\n",
            "C=1.33, Precision Macro Avg=0.982, Recall Macro Avg=0.924, F1-score Macro Avg=0.950\n",
            "C=1.34, Precision Macro Avg=0.982, Recall Macro Avg=0.924, F1-score Macro Avg=0.950\n",
            "C=1.35, Precision Macro Avg=0.982, Recall Macro Avg=0.924, F1-score Macro Avg=0.950\n",
            "C=1.36, Precision Macro Avg=0.985, Recall Macro Avg=0.924, F1-score Macro Avg=0.952\n",
            "C=1.37, Precision Macro Avg=0.985, Recall Macro Avg=0.924, F1-score Macro Avg=0.952\n",
            "C=1.38, Precision Macro Avg=0.985, Recall Macro Avg=0.924, F1-score Macro Avg=0.952\n",
            "C=1.39, Precision Macro Avg=0.985, Recall Macro Avg=0.924, F1-score Macro Avg=0.952\n",
            "C=1.40, Precision Macro Avg=0.985, Recall Macro Avg=0.924, F1-score Macro Avg=0.952\n",
            "C=1.41, Precision Macro Avg=0.985, Recall Macro Avg=0.924, F1-score Macro Avg=0.952\n",
            "C=1.42, Precision Macro Avg=0.985, Recall Macro Avg=0.924, F1-score Macro Avg=0.952\n",
            "C=1.43, Precision Macro Avg=0.985, Recall Macro Avg=0.924, F1-score Macro Avg=0.952\n",
            "C=1.44, Precision Macro Avg=0.985, Recall Macro Avg=0.924, F1-score Macro Avg=0.952\n",
            "C=1.45, Precision Macro Avg=0.985, Recall Macro Avg=0.924, F1-score Macro Avg=0.952\n",
            "C=1.46, Precision Macro Avg=0.985, Recall Macro Avg=0.924, F1-score Macro Avg=0.952\n",
            "C=1.47, Precision Macro Avg=0.985, Recall Macro Avg=0.924, F1-score Macro Avg=0.952\n",
            "C=1.48, Precision Macro Avg=0.985, Recall Macro Avg=0.924, F1-score Macro Avg=0.952\n",
            "C=1.49, Precision Macro Avg=0.985, Recall Macro Avg=0.924, F1-score Macro Avg=0.952\n",
            "C=1.50, Precision Macro Avg=0.985, Recall Macro Avg=0.924, F1-score Macro Avg=0.952\n",
            "C=1.51, Precision Macro Avg=0.985, Recall Macro Avg=0.924, F1-score Macro Avg=0.952\n",
            "C=1.52, Precision Macro Avg=0.985, Recall Macro Avg=0.924, F1-score Macro Avg=0.952\n",
            "C=1.53, Precision Macro Avg=0.985, Recall Macro Avg=0.927, F1-score Macro Avg=0.953\n",
            "C=1.54, Precision Macro Avg=0.985, Recall Macro Avg=0.927, F1-score Macro Avg=0.953\n",
            "C=1.55, Precision Macro Avg=0.985, Recall Macro Avg=0.927, F1-score Macro Avg=0.953\n",
            "C=1.56, Precision Macro Avg=0.985, Recall Macro Avg=0.927, F1-score Macro Avg=0.953\n",
            "C=1.57, Precision Macro Avg=0.985, Recall Macro Avg=0.927, F1-score Macro Avg=0.953\n",
            "C=1.58, Precision Macro Avg=0.982, Recall Macro Avg=0.926, F1-score Macro Avg=0.952\n",
            "C=1.59, Precision Macro Avg=0.982, Recall Macro Avg=0.926, F1-score Macro Avg=0.952\n",
            "C=1.60, Precision Macro Avg=0.982, Recall Macro Avg=0.926, F1-score Macro Avg=0.952\n",
            "C=1.61, Precision Macro Avg=0.982, Recall Macro Avg=0.926, F1-score Macro Avg=0.952\n",
            "C=1.62, Precision Macro Avg=0.982, Recall Macro Avg=0.926, F1-score Macro Avg=0.952\n",
            "C=1.63, Precision Macro Avg=0.982, Recall Macro Avg=0.926, F1-score Macro Avg=0.952\n",
            "C=1.64, Precision Macro Avg=0.982, Recall Macro Avg=0.926, F1-score Macro Avg=0.952\n",
            "C=1.65, Precision Macro Avg=0.982, Recall Macro Avg=0.926, F1-score Macro Avg=0.952\n",
            "C=1.66, Precision Macro Avg=0.982, Recall Macro Avg=0.926, F1-score Macro Avg=0.952\n",
            "C=1.67, Precision Macro Avg=0.982, Recall Macro Avg=0.926, F1-score Macro Avg=0.952\n",
            "C=1.68, Precision Macro Avg=0.982, Recall Macro Avg=0.926, F1-score Macro Avg=0.952\n",
            "C=1.69, Precision Macro Avg=0.982, Recall Macro Avg=0.926, F1-score Macro Avg=0.952\n",
            "C=1.70, Precision Macro Avg=0.982, Recall Macro Avg=0.926, F1-score Macro Avg=0.952\n",
            "C=1.71, Precision Macro Avg=0.982, Recall Macro Avg=0.926, F1-score Macro Avg=0.952\n",
            "C=1.72, Precision Macro Avg=0.982, Recall Macro Avg=0.926, F1-score Macro Avg=0.952\n",
            "C=1.73, Precision Macro Avg=0.982, Recall Macro Avg=0.926, F1-score Macro Avg=0.952\n",
            "C=1.74, Precision Macro Avg=0.982, Recall Macro Avg=0.926, F1-score Macro Avg=0.952\n",
            "C=1.75, Precision Macro Avg=0.982, Recall Macro Avg=0.926, F1-score Macro Avg=0.952\n",
            "C=1.76, Precision Macro Avg=0.982, Recall Macro Avg=0.926, F1-score Macro Avg=0.952\n",
            "C=1.77, Precision Macro Avg=0.983, Recall Macro Avg=0.929, F1-score Macro Avg=0.954\n",
            "C=1.78, Precision Macro Avg=0.983, Recall Macro Avg=0.929, F1-score Macro Avg=0.954\n",
            "C=1.79, Precision Macro Avg=0.983, Recall Macro Avg=0.929, F1-score Macro Avg=0.954\n",
            "C=1.80, Precision Macro Avg=0.983, Recall Macro Avg=0.929, F1-score Macro Avg=0.954\n",
            "C=1.81, Precision Macro Avg=0.983, Recall Macro Avg=0.929, F1-score Macro Avg=0.954\n",
            "C=1.82, Precision Macro Avg=0.983, Recall Macro Avg=0.929, F1-score Macro Avg=0.954\n",
            "C=1.83, Precision Macro Avg=0.983, Recall Macro Avg=0.929, F1-score Macro Avg=0.954\n",
            "C=1.84, Precision Macro Avg=0.983, Recall Macro Avg=0.929, F1-score Macro Avg=0.954\n",
            "C=1.85, Precision Macro Avg=0.983, Recall Macro Avg=0.929, F1-score Macro Avg=0.954\n",
            "C=1.86, Precision Macro Avg=0.983, Recall Macro Avg=0.929, F1-score Macro Avg=0.954\n",
            "C=1.87, Precision Macro Avg=0.983, Recall Macro Avg=0.929, F1-score Macro Avg=0.954\n",
            "C=1.88, Precision Macro Avg=0.983, Recall Macro Avg=0.929, F1-score Macro Avg=0.954\n",
            "C=1.89, Precision Macro Avg=0.983, Recall Macro Avg=0.929, F1-score Macro Avg=0.954\n",
            "C=1.90, Precision Macro Avg=0.983, Recall Macro Avg=0.929, F1-score Macro Avg=0.954\n",
            "C=1.91, Precision Macro Avg=0.983, Recall Macro Avg=0.929, F1-score Macro Avg=0.954\n",
            "C=1.92, Precision Macro Avg=0.983, Recall Macro Avg=0.929, F1-score Macro Avg=0.954\n",
            "C=1.93, Precision Macro Avg=0.983, Recall Macro Avg=0.929, F1-score Macro Avg=0.954\n",
            "C=1.94, Precision Macro Avg=0.983, Recall Macro Avg=0.929, F1-score Macro Avg=0.954\n",
            "C=1.95, Precision Macro Avg=0.983, Recall Macro Avg=0.929, F1-score Macro Avg=0.954\n",
            "C=1.96, Precision Macro Avg=0.983, Recall Macro Avg=0.929, F1-score Macro Avg=0.954\n",
            "C=1.97, Precision Macro Avg=0.983, Recall Macro Avg=0.929, F1-score Macro Avg=0.954\n",
            "C=1.98, Precision Macro Avg=0.983, Recall Macro Avg=0.929, F1-score Macro Avg=0.954\n",
            "C=1.99, Precision Macro Avg=0.983, Recall Macro Avg=0.929, F1-score Macro Avg=0.954\n",
            "C=2.00, Precision Macro Avg=0.983, Recall Macro Avg=0.929, F1-score Macro Avg=0.954\n"
          ]
        }
      ]
    },
    {
      "cell_type": "markdown",
      "source": [],
      "metadata": {
        "id": "dlW9ORUM-SwJ"
      }
    },
    {
      "cell_type": "markdown",
      "metadata": {
        "id": "1nffLu6UdnLf"
      },
      "source": [
        "Let's predict results for the specified text"
      ]
    },
    {
      "cell_type": "code",
      "metadata": {
        "id": "prWswDzudnLf"
      },
      "source": [
        "txt = \"You are cordially invited to the 2021 International Conference on Advances in Digital Science (ICADS 2021), to be held at Salvador, Brazil, 19 – 21 February 2021, is an international forum for researchers and practitioners to present and discuss the most recent innovations.\"\n",
        "txt = preprocess(txt)\n",
        "txt = vectorizer.transform([txt])"
      ],
      "execution_count": 15,
      "outputs": []
    },
    {
      "cell_type": "code",
      "source": [
        "model.predict(txt)"
      ],
      "metadata": {
        "colab": {
          "base_uri": "https://localhost:8080/",
          "height": 0
        },
        "id": "z7oCdS7QFSre",
        "outputId": "02f481bb-c024-40f3-f051-534482731680"
      },
      "execution_count": 16,
      "outputs": [
        {
          "output_type": "execute_result",
          "data": {
            "text/plain": [
              "array([0])"
            ]
          },
          "metadata": {},
          "execution_count": 16
        }
      ]
    },
    {
      "cell_type": "markdown",
      "source": [
        "The message is classified as spam."
      ],
      "metadata": {
        "id": "KDvbtD6eFemu"
      }
    },
    {
      "cell_type": "code",
      "source": [
        "txt = \"Enlightening A great overview of U.S. foreign policy.\"\n",
        "txt = preprocess(txt)\n",
        "txt = vectorizer.transform([txt])"
      ],
      "metadata": {
        "id": "mUx2Z5rWEpn3"
      },
      "execution_count": 17,
      "outputs": []
    },
    {
      "cell_type": "code",
      "source": [
        "model.predict(txt)"
      ],
      "metadata": {
        "colab": {
          "base_uri": "https://localhost:8080/",
          "height": 0
        },
        "id": "rXv3raPrFTFk",
        "outputId": "41805721-a6ba-4944-db16-1daa6159de29"
      },
      "execution_count": 18,
      "outputs": [
        {
          "output_type": "execute_result",
          "data": {
            "text/plain": [
              "array([0])"
            ]
          },
          "metadata": {},
          "execution_count": 18
        }
      ]
    },
    {
      "cell_type": "markdown",
      "source": [
        "The message is classified as ham."
      ],
      "metadata": {
        "id": "tfL8D5STFk4u"
      }
    },
    {
      "cell_type": "code",
      "source": [
        "txt = \"Enlightening A great overview of U.S. foreign policy.\"\n",
        "txt = preprocess(txt)\n",
        "txt = vectorizer.transform([txt])"
      ],
      "metadata": {
        "id": "H6fi8JJZEzTt"
      },
      "execution_count": 19,
      "outputs": []
    },
    {
      "cell_type": "code",
      "source": [
        "model.predict(txt)"
      ],
      "metadata": {
        "colab": {
          "base_uri": "https://localhost:8080/",
          "height": 0
        },
        "id": "vxk_vmILFTlM",
        "outputId": "2eaa22d6-eb5f-481c-dba9-eee2da48e2de"
      },
      "execution_count": 20,
      "outputs": [
        {
          "output_type": "execute_result",
          "data": {
            "text/plain": [
              "array([0])"
            ]
          },
          "metadata": {},
          "execution_count": 20
        }
      ]
    },
    {
      "cell_type": "markdown",
      "source": [
        "The message is classified as ham."
      ],
      "metadata": {
        "id": "o7n9gVCKFkGN"
      }
    },
    {
      "cell_type": "code",
      "source": [
        "txt = \"V-E-R-I-Z-O-N, To continue using our services please go to update.vtext02.net and update your account.359394.\"\n",
        "txt = preprocess(txt)\n",
        "txt = vectorizer.transform([txt])"
      ],
      "metadata": {
        "id": "k2MAkBnzE3IU"
      },
      "execution_count": 35,
      "outputs": []
    },
    {
      "cell_type": "code",
      "source": [
        "model.predict(txt)"
      ],
      "metadata": {
        "colab": {
          "base_uri": "https://localhost:8080/",
          "height": 0
        },
        "id": "ApqdqdXqFUDF",
        "outputId": "215fd293-064d-47de-f2c2-898de9bfe01e"
      },
      "execution_count": 36,
      "outputs": [
        {
          "output_type": "execute_result",
          "data": {
            "text/plain": [
              "array([1])"
            ]
          },
          "metadata": {},
          "execution_count": 36
        }
      ]
    },
    {
      "cell_type": "markdown",
      "source": [
        "The message is classified as spam."
      ],
      "metadata": {
        "id": "icexRXHCFdFv"
      }
    },
    {
      "cell_type": "code",
      "source": [
        "txt = \"I think this book is a must read for anyone who wants an insight into the Middle East.\"\n",
        "txt = preprocess(txt)\n",
        "txt = vectorizer.transform([txt])"
      ],
      "metadata": {
        "id": "opd7kz6-E3om"
      },
      "execution_count": 39,
      "outputs": []
    },
    {
      "cell_type": "code",
      "metadata": {
        "id": "brfpnzR7dnLf",
        "colab": {
          "base_uri": "https://localhost:8080/",
          "height": 0
        },
        "outputId": "636cb124-3779-4b7e-a63d-ab960a25b2ca"
      },
      "source": [
        "model.predict(txt)"
      ],
      "execution_count": 40,
      "outputs": [
        {
          "output_type": "execute_result",
          "data": {
            "text/plain": [
              "array([0])"
            ]
          },
          "metadata": {},
          "execution_count": 40
        }
      ]
    },
    {
      "cell_type": "markdown",
      "source": [
        "The message is classified as ham."
      ],
      "metadata": {
        "id": "-gQ4z-NbIkQO"
      }
    }
  ]
}