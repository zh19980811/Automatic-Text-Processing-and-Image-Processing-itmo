{
  "cells": [
    {
      "cell_type": "markdown",
      "metadata": {
        "id": "view-in-github",
        "colab_type": "text"
      },
      "source": [
        "<a href=\"https://colab.research.google.com/github/zh19980811/Automatic-Text-Processing-and-Image-Processing-itmo/blob/main/2_Task_13_(1).ipynb\" target=\"_parent\"><img src=\"https://colab.research.google.com/assets/colab-badge.svg\" alt=\"Open In Colab\"/></a>"
      ]
    },
    {
      "cell_type": "markdown",
      "id": "898bb7f6",
      "metadata": {
        "id": "898bb7f6"
      },
      "source": [
        "# Task 6: Image Comparison - Local Features"
      ]
    },
    {
      "cell_type": "code",
      "source": [
        "import cv2\n",
        "import numpy as np\n",
        "\n",
        "# Step 1: Read the image\n",
        "image_path = 'car-4445171_1280.jpg'\n",
        "image = cv2.imread(image_path)\n",
        "\n",
        "# Step 2: Select the submatrix and save the cropped image\n",
        "cropped_image = image[333:478, 567:747]\n",
        "cv2.imwrite('cropped_image.jpg', cropped_image)\n",
        "\n",
        "# Step 3: Find the resolution of the cropped image\n",
        "cropped_height, cropped_width, _ = cropped_image.shape\n",
        "print(f\"The resolution of the cropped image is: {cropped_width}x{cropped_height}\")\n",
        "\n",
        "# Step 4: Use SIFT descriptor to find the cropped image in the original image\n",
        "sift = cv2.SIFT_create()\n",
        "gray_image = cv2.cvtColor(image, cv2.COLOR_BGR2GRAY)\n",
        "gray_cropped_image = cv2.cvtColor(cropped_image, cv2.COLOR_BGR2GRAY)\n",
        "\n",
        "# Detect SIFT features and compute descriptors\n",
        "keypoints1, descriptors1 = sift.detectAndCompute(gray_image, None)\n",
        "keypoints2, descriptors2 = sift.detectAndCompute(gray_cropped_image, None)\n",
        "\n",
        "# Match descriptors using BFMatcher\n",
        "bf = cv2.BFMatcher(cv2.NORM_L2, crossCheck=True)\n",
        "matches = bf.match(descriptors1, descriptors2)\n",
        "matches = sorted(matches, key=lambda x: x.distance)\n",
        "\n",
        "# Find the coordinates of the zero key point\n",
        "best_match = matches[0]\n",
        "keypoint = keypoints1[best_match.queryIdx]\n",
        "x, y = keypoint.pt\n",
        "x = int(round(x))\n",
        "y = int(round(y))\n",
        "print(f\"Coordinates of the zero key point: ({x}, {y})\")\n",
        "\n",
        "# Step 6: Find the intensities of B, G, R for the key point obtained\n",
        "b, g, r = image[y, x]\n",
        "print(f\"Intensities of B, G, R at the key point: {b}, {g}, {r}\")\n"
      ],
      "metadata": {
        "colab": {
          "base_uri": "https://localhost:8080/"
        },
        "id": "gUvtYCEzEFe5",
        "outputId": "d382cea3-a4ad-4995-850f-661d4e88c372"
      },
      "id": "gUvtYCEzEFe5",
      "execution_count": 31,
      "outputs": [
        {
          "output_type": "stream",
          "name": "stdout",
          "text": [
            "The resolution of the cropped image is: 180x145\n",
            "Coordinates of the zero key point: (616, 391)\n",
            "Intensities of B, G, R at the key point: 5, 1, 0\n"
          ]
        }
      ]
    }
  ],
  "metadata": {
    "kernelspec": {
      "display_name": "Python 3 (ipykernel)",
      "language": "python",
      "name": "python3"
    },
    "language_info": {
      "codemirror_mode": {
        "name": "ipython",
        "version": 3
      },
      "file_extension": ".py",
      "mimetype": "text/x-python",
      "name": "python",
      "nbconvert_exporter": "python",
      "pygments_lexer": "ipython3",
      "version": "3.7.13"
    },
    "colab": {
      "provenance": [],
      "include_colab_link": true
    }
  },
  "nbformat": 4,
  "nbformat_minor": 5
}